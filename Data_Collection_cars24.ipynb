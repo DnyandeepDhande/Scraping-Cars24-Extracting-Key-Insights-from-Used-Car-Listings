{
 "cells": [
  {
   "cell_type": "code",
   "execution_count": 38,
   "id": "a07870ca-36bd-449e-aba3-fcc67a8c9bc5",
   "metadata": {},
   "outputs": [],
   "source": [
    "import requests"
   ]
  },
  {
   "cell_type": "code",
   "execution_count": 39,
   "id": "130d70a8-e6f0-4950-8b80-15ec4e8e680b",
   "metadata": {},
   "outputs": [],
   "source": [
    "url = \"https://www.cars24.com/buy-used-cars-pune/?sort=bestmatch&serveWarrantyCount=true&storeCityId=2423\"\n"
   ]
  },
  {
   "cell_type": "code",
   "execution_count": 40,
   "id": "ff27df0f-a554-4513-a0c0-bcf7651d4a0a",
   "metadata": {
    "scrolled": true
   },
   "outputs": [
    {
     "data": {
      "text/plain": [
       "<Response [200]>"
      ]
     },
     "execution_count": 40,
     "metadata": {},
     "output_type": "execute_result"
    }
   ],
   "source": [
    "requests.get(url)"
   ]
  },
  {
   "cell_type": "code",
   "execution_count": 41,
   "id": "e65b5c19-01d8-484a-8a97-3bf2a666b911",
   "metadata": {
    "scrolled": true
   },
   "outputs": [],
   "source": [
    "request_header = {'Content-Type': 'text/html; charset=UTF-8','User-Agent': 'Chrome/101.0.0.0 (Windows NT 10.0; Win64; x64; rv:109.0) Gecko/20100101 Firefox/119.0','Accept-Encoding': 'gzip, deflate, br'}\n",
    "\n",
    "page = requests.get(url,headers =request_header)\n"
   ]
  },
  {
   "cell_type": "code",
   "execution_count": 42,
   "id": "343f4a2d-d69e-40d5-9e09-02b29cdc7285",
   "metadata": {},
   "outputs": [
    {
     "data": {
      "text/plain": [
       "<Response [200]>"
      ]
     },
     "execution_count": 42,
     "metadata": {},
     "output_type": "execute_result"
    }
   ],
   "source": [
    "page"
   ]
  },
  {
   "cell_type": "code",
   "execution_count": 43,
   "id": "531c9ea4-4be7-4248-b0d4-de94fcbda248",
   "metadata": {},
   "outputs": [],
   "source": [
    "from bs4 import BeautifulSoup"
   ]
  },
  {
   "cell_type": "code",
   "execution_count": 44,
   "id": "123e1bb3-b8a9-4c19-a0fb-f9df060f6a8d",
   "metadata": {
    "scrolled": true
   },
   "outputs": [],
   "source": [
    "soup = BeautifulSoup(page.text)"
   ]
  },
  {
   "cell_type": "code",
   "execution_count": 45,
   "id": "08a92832-7fe9-4dec-b260-8c8a559ad3c1",
   "metadata": {},
   "outputs": [],
   "source": [
    "for i in soup.find_all('div' , class_ = 'styles_contentWrap__9oSrl'):\n",
    "    print(i.text)"
   ]
  },
  {
   "cell_type": "code",
   "execution_count": 46,
   "id": "50729ffd-12a8-4e88-9c24-164ef3d7c73b",
   "metadata": {
    "scrolled": true
   },
   "outputs": [],
   "source": [
    "for i in soup.find_all(\"div\", class_ = \"styles_outer__NTVth\"):\n",
    "     print(i.text)\n",
    "     print(\"-\"*70)"
   ]
  },
  {
   "cell_type": "code",
   "execution_count": 47,
   "id": "646d8513-6b7f-43a5-86ae-1a7e25f124b7",
   "metadata": {},
   "outputs": [
    {
     "name": "stdout",
     "output_type": "stream",
     "text": [
      "[]\n",
      "------------------------------------------------------------------------------------------------------------------------------------------------------\n",
      "0\n",
      "------------------------------------------------------------------------------------------------------------------------------------------------------\n",
      "[]\n",
      "------------------------------------------------------------------------------------------------------------------------------------------------------\n",
      "0\n",
      "[]\n",
      "------------------------------------------------------------------------------------------------------------------------------------------------------\n",
      "0\n",
      "[]\n"
     ]
    }
   ],
   "source": [
    "import numpy as np\n",
    "import re\n",
    "section = soup.find_all('div' , class_ = 'styles_contentWrap__9oSrl')\n",
    "\n",
    "Year = []\n",
    "Brand = [] \n",
    "Model = []\n",
    "Fuel_Type = []\n",
    "for i in section:\n",
    "     t = i.find(\"div\", class_=\"styles_outer__NTVth\")\n",
    "     text = t.text\n",
    "\n",
    "     year = re.findall('^\\d+' , text)\n",
    "     if year:\n",
    "         Year.append(year[0])\n",
    "     else:\n",
    "         Year.append(np.nan)\n",
    "        \n",
    "     brand = re.findall(r'^\\d+\\s(\\w+)' , text)\n",
    "     if brand:\n",
    "         Brand.append(brand[0])\n",
    "     else:\n",
    "         Brand.append(np.nan)\n",
    "\n",
    "     model = re.findall(r'^\\w+ \\w+ (\\w+ \\w+)',text)\n",
    "     if model:\n",
    "         Model.append(model[0])\n",
    "     else:\n",
    "         Brand.append(np.nan)\n",
    "    \n",
    "     fuel = re.findall(r'km(\\w+M)', text)\n",
    "     if fuel:\n",
    "         Fuel_Type.append(fuel[0])\n",
    "     else:\n",
    "         Fuel_Type.append(np.nan)\n",
    "    \n",
    "        \n",
    "print(Year) \n",
    "print(\"-\"*150)\n",
    "print(len(Year))\n",
    "print(\"-\"*150)\n",
    "\n",
    "print(Brand)\n",
    "print(\"-\"*150)\n",
    "print(len(Brand))\n",
    "\n",
    "print(Model)\n",
    "print(\"-\"*150)\n",
    "print(len(Model))\n",
    "\n",
    "print(Fuel_Type)"
   ]
  },
  {
   "cell_type": "code",
   "execution_count": 48,
   "id": "676a419e-2d14-43be-8491-0bee36e36b3d",
   "metadata": {},
   "outputs": [],
   "source": [
    "Brand =[]\n",
    "for i in soup.find_all(\"div\" , class_=\"styles_outer__NTVth\"):\n",
    "     Brand.append(i.text)\n",
    "     print(Brand)\n",
    "     print('-'*70)"
   ]
  },
  {
   "cell_type": "code",
   "execution_count": 49,
   "id": "713fbe81-916d-42f9-9870-8f3a20a7ac57",
   "metadata": {},
   "outputs": [],
   "source": [
    "soup.find(\"div\", class_=\"sc-dENhDJ fkorgQ\")"
   ]
  },
  {
   "cell_type": "code",
   "execution_count": 3,
   "id": "421b54cf-0d91-4400-94e5-a795085393b9",
   "metadata": {
    "scrolled": true
   },
   "outputs": [],
   "source": [
    "pune = \"https://www.cars24.com/buy-used-cars-pune/?sort=bestmatch&serveWarrantyCount=true&storeCityId=2423\"\n",
    "mumbai = \"https://www.cars24.com/buy-used-cars-mumbai/?sort=bestmatch&serveWarrantyCount=true&storeCityId=2378\"\n",
    "Bangalore = \"https://www.cars24.com/buy-used-cars-bangalore/?sort=bestmatch&serveWarrantyCount=true&storeCityId=4709\"\n",
    "newdelhi = \"https://www.cars24.com/buy-used-cars-new-delhi/?sort=bestmatch&serveWarrantyCount=true&storeCityId=2\"\n",
    "hydrabad =\"https://www.cars24.com/buy-used-cars-hyderabad/?sort=bestmatch&serveWarrantyCount=true&storeCityId=3686\"\n",
    "Nashik = \"https://www.cars24.com/buy-used-cars-nashik/?sort=bestmatch&serveWarrantyCount=true&storeCityId=2598\"\n",
    "indore = \"https://www.cars24.com/buy-used-cars-indore/?sort=bestmatch&serveWarrantyCount=true&storeCityId=2920\"\n",
    "noida = \"https://www.cars24.com/buy-used-cars-noida/?sort=bestmatch&serveWarrantyCount=true&storeCityId=134\"\n",
    "Chandighar = \"https://www.cars24.com/buy-used-cars-chandigarh-tricity/?sort=bestmatch&serveWarrantyCount=true&storeCityId=8623\"\n",
    "ludiana =  \"https://www.cars24.com/buy-used-cars-ludhiana/?sort=bestmatch&serveWarrantyCount=true&storeCityId=666\"\n",
    "lucknow = \"https://www.cars24.com/buy-used-cars-lucknow/?sort=bestmatch&serveWarrantyCount=true&storeCityId=290\"\n",
    "gurgaon = \"https://www.cars24.com/buy-used-cars-gurgaon/?sort=bestmatch&serveWarrantyCount=true&storeCityId=5\"\n",
    "gaziabad = \"https://www.cars24.com/buy-used-cars-ghaziabad/?sort=bestmatch&serveWarrantyCount=true&storeCityId=132\"\n",
    "kolkatta = \"https://www.cars24.com/buy-used-cars-kolkata/?sort=bestmatch&serveWarrantyCount=true&storeCityId=777\"\n",
    "coimbatore = \"https://www.cars24.com/buy-used-cars-coimbatore/?sort=bestmatch&serveWarrantyCount=true&storeCityId=6105\"\n",
    "patan = \"https://www.cars24.com/buy-used-cars-patna/?sort=bestmatch&serveWarrantyCount=true&storeCityId=8184\"\n",
    "surat = \"https://www.cars24.com/buy-used-cars-surat/?sort=bestmatch&serveWarrantyCount=true&storeCityId=1605\"\n",
    "rajkot = \"https://www.cars24.com/buy-used-cars-surat/?sort=bestmatch&serveWarrantyCount=true&storeCityId=1605\"\n",
    "vadodadra = \"https://www.cars24.com/buy-used-cars-vadodara/?sort=bestmatch&serveWarrantyCount=true&storeCityId=1674\"\n",
    "agra = \"https://www.cars24.com/buy-used-cars-agra/?sort=bestmatch&serveWarrantyCount=true&storeCityId=136\"\n",
    "ahmedabad = \"https://www.cars24.com/buy-used-cars-ahmedabad/?sort=bestmatch&serveWarrantyCount=true&storeCityId=1692\"\n",
    "jaipur = \"https://www.cars24.com/buy-used-cars-jaipur/?sort=bestmatch&serveWarrantyCount=true&storeCityId=2130\"\n",
    "amritsar = \"https://www.cars24.com/buy-used-cars-amritsar/?sort=bestmatch&serveWarrantyCount=true&storeCityId=684\"\n",
    "trivandrum = \"https://www.cars24.com/buy-used-cars-trivandrum/?sort=bestmatch&serveWarrantyCount=true&storeCityId=6565\"\n",
    "bhubaneswar = \"https://www.cars24.com/buy-used-cars-bhubaneswar/?sort=bestmatch&serveWarrantyCount=true&storeCityId=7323\"\n",
    "dehradun =  \"https://www.cars24.com/buy-used-cars-dehradun/?sort=bestmatch&serveWarrantyCount=true&storeCityId=1512\"\n",
    "bhopal =  \"https://www.cars24.com/buy-used-cars-bhopal/?sort=bestmatch&serveWarrantyCount=true&storeCityId=2987\"\n",
    "import re\n",
    "import warnings\n",
    "import requests\n",
    "import numpy as np\n",
    "import pandas as pd\n",
    "from bs4 import BeautifulSoup\n",
    "\n",
    "warnings.filterwarnings(\"ignore\")\n",
    "\n",
    "# List of cities with their IDs\n",
    "data = {\n",
    "    \"pune\": 2423, \"bangalore\": 4709, \"mumbai\": 2378, \"delhi\": 2, \"hyderabad\": 3686,\n",
    "    \"nashik\": 2598, \"indore\": 2920, \"noida\": 134, \"chandigarh\": 8623, \"ludhiana\": 666,\n",
    "    \"lucknow\": 290, \"gurgaon\": 5, \"ghaziabad\": 132, \"kolkata\": 777, \"coimbatore\": 6105,\n",
    "    \"patna\": 8184, \"surat\": 1605, \"vadodara\": 1674, \"agra\": 136, \"ahmedabad\": 1692,\n",
    "    \"jaipur\": 2130, \"amritsar\": 684, \"trivandrum\": 6565, \"bhubaneswar\": 7323,\n",
    "    \"dehradun\": 1512, \"bhopal\": 2987\n",
    "}\n",
    "\n",
    "# Lists to store scraped data\n",
    "Year, Brand, Model, Fuel_Type, Transmission = [], [], [], [], []\n",
    "KM_Driven, Owner, EMI_Price, Price, City = [], [], [], [], []\n",
    "\n",
    "# Function to clean and convert KM to numeric form\n",
    "def convert_km(km_text):\n",
    "    if isinstance(km_text, str):\n",
    "        km_text = km_text.replace(\",\", \"\").strip()\n",
    "        if \"lakh\" in km_text.lower():\n",
    "            return int(float(re.findall(r'[\\d\\.]+', km_text)[0]) * 100000)\n",
    "        return int(re.findall(r'[\\d\\.]+', km_text)[0])\n",
    "    return np.nan\n",
    "\n",
    "# Loop through each city\n",
    "for city, city_id in data.items():\n",
    "    url = f\"https://www.cars24.com/buy-used-cars-{city}/?sort=bestmatch&serveWarrantyCount=true&storeCityId={city_id}\"\n",
    "    headers = {\n",
    "        \"User-Agent\": \"Mozilla/5.0 (Windows NT 10.0; Win64; x64) AppleWebKit/537.36 (KHTML, like Gecko) Chrome/101.0.0.0 Safari/537.36\"\n",
    "    }\n",
    "\n",
    "    page = requests.get(url, headers=headers)\n",
    "    soup = BeautifulSoup(page.text, \"html.parser\")\n",
    "\n",
    "    section = soup.find_all(\"div\", class_=\"styles_contentWrap__9oSrl\")\n",
    "\n",
    "    for car in section:\n",
    "        t = car.find(\"div\", class_=\"styles_outer__NTVth\")\n",
    "        text = t.text.strip() if t else \"\"\n",
    "\n",
    "        # Extracting details\n",
    "        year = re.findall(r'^\\d{4}', text)\n",
    "        Year.append(year[0] if year else np.nan)\n",
    "\n",
    "        brand = re.findall(r'^\\d{4}\\s([A-Za-z]+)', text)\n",
    "        Brand.append(brand[0] if brand else np.nan)\n",
    "\n",
    "        model = re.findall(r'\\d{4}\\s[A-Za-z]+\\s([A-Za-z0-9\\-]+)', text)\n",
    "        Model.append(model[0] if model else np.nan)\n",
    "\n",
    "        fuel = re.findall(r'(Petrol|Diesel|CNG|Electric|Hybrid)', text)\n",
    "        Fuel_Type.append(fuel[0] if fuel else np.nan)\n",
    "\n",
    "        trans = re.findall(r'(Manual|Automatic|Auto)', text)\n",
    "        Transmission.append(trans[0] if trans else np.nan)\n",
    "\n",
    "        km = re.findall(r'([\\d,\\.]+\\s?(?:Lakh|KM|km))', text, re.IGNORECASE)\n",
    "        KM_Driven.append(convert_km(km[0]) if km else np.nan)\n",
    "\n",
    "        owner = re.findall(r'(\\d\\w*\\s?owner)', text, re.IGNORECASE)\n",
    "        Owner.append(owner[0] if owner else np.nan)\n",
    "\n",
    "        emi_price = re.findall(r'EMI\\s?₹?[\\d,]+\\/m', text)\n",
    "        EMI_Price.append(emi_price[0] if emi_price else np.nan)\n",
    "\n",
    "        price = re.findall(r'₹[\\d,]+(?:\\.\\d+)?\\s?(?:lakh|L|crore|Cr)?', text)\n",
    "        Price.append(price[0] if price else np.nan)\n",
    "\n",
    "        City.append(city.capitalize())\n",
    "\n",
    "# Convert to DataFrame\n",
    "df = pd.DataFrame({\n",
    "    \"City\": City,\n",
    "    \"Year\": Year,\n",
    "    \"Brand\": Brand,\n",
    "    \"Model\": Model,\n",
    "    \"Fuel_Type\": Fuel_Type,\n",
    "    \"Transmission\": Transmission,\n",
    "    \"KM_Driven\": KM_Driven,\n",
    "    \"Owner\": Owner,\n",
    "    \"EMI_Price\": EMI_Price,\n",
    "    \"Price\": Price\n",
    "})\n"
   ]
  },
  {
   "cell_type": "code",
   "execution_count": 4,
   "id": "4bac0d4a-1c62-4cc4-b1f9-a988891c11e1",
   "metadata": {
    "scrolled": true
   },
   "outputs": [
    {
     "name": "stdout",
     "output_type": "stream",
     "text": [
      "    City  Year    Brand   Model Fuel_Type Transmission  KM_Driven      Owner  \\\n",
      "0   Pune  2023  Hyundai     NEW    Petrol         Auto     876000  1st owner   \n",
      "1   Pune  2022  Renault  TRIBER    Petrol         Auto     650000  1st owner   \n",
      "2   Pune  2019  Hyundai   VENUE    Petrol         Auto     772000  2nd owner   \n",
      "3   Pune  2022     Tata   NEXON    Diesel       Manual    1254000  1st owner   \n",
      "4   Pune  2022     Tata  ALTROZ    Petrol       Manual     741000  1st owner   \n",
      "5   Pune  2023       MG   ASTOR    Petrol         Auto    1380000  1st owner   \n",
      "6   Pune  2021  Renault    Kwid    Petrol         Auto     412000  2nd owner   \n",
      "7   Pune  2019  Hyundai     NEW       CNG       Manual     423000  1st owner   \n",
      "8   Pune  2017    Honda    WR-V    Petrol       Manual     600000  1st owner   \n",
      "9   Pune  2018     Tata   NEXON       CNG       Manual     662000  2nd owner   \n",
      "10  Pune  2021   Maruti   Swift       CNG       Manual     590000  1st owner   \n",
      "11  Pune  2023     Tata   Tiago       CNG       Manual     648000  1st owner   \n",
      "12  Pune  2020     Tata   Tiago    Petrol       Manual     441000  1st owner   \n",
      "13  Pune  2022       MG   ASTOR    Petrol         Auto    1343000  1st owner   \n",
      "14  Pune  2019   Maruti   Dzire    Petrol       Manual     486000  2nd owner   \n",
      "15  Pune  2018    Honda    WR-V    Petrol       Manual     641000  1st owner   \n",
      "16  Pune  2016  Hyundai   Verna    Petrol       Manual     540000  1st owner   \n",
      "17  Pune  2017     Tata   Tiago    Petrol       Manual     352000  1st owner   \n",
      "18  Pune  2024     Tata   TIGOR       CNG         Auto     890000  1st owner   \n",
      "19  Pune  2019      KIA  SELTOS    Petrol         Auto    1160000  2nd owner   \n",
      "\n",
      "        EMI_Price    Price  \n",
      "0   EMI ₹16,676/m  ₹16,676  \n",
      "1   EMI ₹12,705/m  ₹12,705  \n",
      "2   EMI ₹15,088/m  ₹15,088  \n",
      "3   EMI ₹23,862/m  ₹23,862  \n",
      "4   EMI ₹14,478/m  ₹14,478  \n",
      "5   EMI ₹26,262/m  ₹26,262  \n",
      "6    EMI ₹8,049/m   ₹8,049  \n",
      "7    EMI ₹8,266/m   ₹8,266  \n",
      "8   EMI ₹11,737/m  ₹11,737  \n",
      "9   EMI ₹12,937/m  ₹12,937  \n",
      "10  EMI ₹11,535/m  ₹11,535  \n",
      "11  EMI ₹12,665/m  ₹12,665  \n",
      "12   EMI ₹8,614/m   ₹8,614  \n",
      "13  EMI ₹25,563/m  ₹25,563  \n",
      "14   EMI ₹9,496/m   ₹9,496  \n",
      "15  EMI ₹12,532/m  ₹12,532  \n",
      "16  EMI ₹10,557/m  ₹10,557  \n",
      "17   EMI ₹6,884/m   ₹6,884  \n",
      "18  EMI ₹16,943/m  ₹16,943  \n",
      "19  EMI ₹22,088/m  ₹22,088  \n",
      "\n",
      "Data saved to 'Cars24_Used_Cars.csv'\n"
     ]
    }
   ],
   "source": [
    "print(df.head(20))  # Print first 20 rows\n",
    "df.to_csv(\"Cars24_Used_Cars.csv\", index=False)  # Save to CSV\n",
    "print(\"\\nData saved to 'Cars24_Used_Cars.csv'\")"
   ]
  },
  {
   "cell_type": "code",
   "execution_count": 5,
   "id": "d033b6ff-2942-4d6c-913c-fcc413bb659d",
   "metadata": {},
   "outputs": [
    {
     "data": {
      "text/plain": [
       "array(['NEW', 'TRIBER', 'VENUE', 'NEXON', 'ALTROZ', 'ASTOR', 'Kwid',\n",
       "       'WR-V', 'Swift', 'Tiago', 'Dzire', 'Verna', 'TIGOR', 'SELTOS',\n",
       "       'Eon', 'Amaze', 'i10', 'New', 'Wagon', 'Rapid', 'Vitara', 'Thar',\n",
       "       'Polo', 'Sunny', 'CARENS', 'Duster', 'XUV500', 'Baleno', 'IGNIS',\n",
       "       'Ertiga', 'Ameo', 'Grand', 'AURA', 'Vento', 'Ciaz', 'GRAND',\n",
       "       'Elite', 'Creta', 'Brio', 'i20', 'Terrano', 'Kuv100', 'Ritz',\n",
       "       'Celerio', 'Xcent', 'MAGNITE', 'Zen', 'City', 'PUNCH', 'Alto',\n",
       "       'Harrier', 'Redi', 'FREESTYLE', 'S', 'Safari', 'HECTOR', 'XUV700',\n",
       "       'SONET', 'URBAN', 'Ecosport', 'SLAVIA', 'VIRTUS', 'XUV300', 'Go',\n",
       "       'TAIGUN', 'Curvv', 'Glanza', 'Compass', 'Figo', 'Eeco',\n",
       "       'SCORPIO-N', 'Nano', 'KUV', 'Fiesta', 'SX4', 'Kiger', 'Fortuner',\n",
       "       'Micra', 'Cruze', 'KUSHAQ', 'Scorpio', 'Etios', 'Jazz', 'Civic',\n",
       "       'JIMNY', 'ELEVATE', 'FRONX', 'Bolero', 'Innova', 'Laura',\n",
       "       'Corolla', 'Manza', 'Beat', 'XL6', 'Spark', 'TUV300', 'Zest',\n",
       "       'Indigo'], dtype=object)"
      ]
     },
     "execution_count": 5,
     "metadata": {},
     "output_type": "execute_result"
    }
   ],
   "source": [
    "df.Model.unique()"
   ]
  },
  {
   "cell_type": "code",
   "execution_count": null,
   "id": "a4ef7716-3813-49da-86d7-fd5879c9d72c",
   "metadata": {},
   "outputs": [],
   "source": []
  }
 ],
 "metadata": {
  "kernelspec": {
   "display_name": "Python 3 (ipykernel)",
   "language": "python",
   "name": "python3"
  },
  "language_info": {
   "codemirror_mode": {
    "name": "ipython",
    "version": 3
   },
   "file_extension": ".py",
   "mimetype": "text/x-python",
   "name": "python",
   "nbconvert_exporter": "python",
   "pygments_lexer": "ipython3",
   "version": "3.12.9"
  }
 },
 "nbformat": 4,
 "nbformat_minor": 5
}
